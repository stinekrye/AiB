{
 "cells": [
  {
   "cell_type": "markdown",
   "metadata": {},
   "source": [
    "# Project 1: Global pairwise allignment\n",
    "\n",
    "Question 1: What is the optimal (here maximal) cost of an alignment of AATAAT and AAGG using the above substitution matrix and gap cost -5?\n",
    "\n",
    "Question 2: What is the optimal (here maximal) cost of an alignment of seq1.fasta\n",
    "\n",
    "and seq2.fasta using the same substitution matrix and gap cost? (You probably want to implement the algorithm for computing the cost of an optimal alignment.)\n",
    "\n",
    "Question 3 (optional): How does an optimal alignment look like for the above two pairs of sequences using the given substitution matrix and gap cost -5? (you probably want to implement the algorithm for finding an optimal alignment by backtracking through the dynamic programming table.)\n",
    "\n",
    "Question 4 (optional): How many optimal alignments are for the above two pairs of sequences using the given substitution matrix and gap cost -5? Explain how you can compute the number of optimal alignments."
   ]
  },
  {
   "attachments": {
    "Udklip.JPG": {
     "image/jpeg": "[encoded data removed]"
    }
   },
   "cell_type": "markdown",
   "metadata": {},
   "source": [
    "# Order of sequences + name of their index variable\n",
    "![Udklip.JPG](attachment:Udklip.JPG)\n",
    "seq 1 is y axis (j) and seq 2 is x axis (i)  "
   ]
  },
  {
   "cell_type": "code",
   "execution_count": 2,
   "metadata": {},
   "outputs": [],
   "source": [
    "import numpy as np\n",
    "from Bio import SeqIO"
   ]
  },
  {
   "cell_type": "code",
   "execution_count": 3,
   "metadata": {},
   "outputs": [],
   "source": [
    "# FASTA FILE READER\n",
    "# How can I read a file from another folder? I have spaces in the path and that gives me troubles\n",
    "# vars(record)\n",
    "def fasta_reader(filename):  \n",
    "    sequences = []\n",
    "    for record in SeqIO.parse(filename, \"fasta\"):\n",
    "        sequences.append([record.id,record.seq]) \n",
    "    return sequences"
   ]
  },
  {
   "cell_type": "code",
   "execution_count": 4,
   "metadata": {},
   "outputs": [],
   "source": [
    "# HELPER FUNCTION\n",
    "# Function to translate letters in sequences into numbers, which can be used to index the score matrix\n",
    "def translate(letter):\n",
    "    if letter == \"A\":\n",
    "        return 0\n",
    "    if letter == \"C\":\n",
    "        return 1\n",
    "    if letter == \"G\":\n",
    "        return 2\n",
    "    if letter == \"T\":\n",
    "        return 3"
   ]
  },
  {
   "cell_type": "code",
   "execution_count": 5,
   "metadata": {},
   "outputs": [],
   "source": [
    "# ALIGNMENT FUNCTION\n",
    "def alignment(seq1,seq2,scorematrix,gapcost):\n",
    "    \n",
    " ###   Initialize table. seq 1 is y axis (j) and seq 2 is x axis (i)    ###\n",
    "    table = np.zeros([len(seq1)+1,len(seq2)+1])\n",
    "    \n",
    "    for j in range(1,len(seq1)+1):\n",
    "        table[j,0] = gapcost*j\n",
    "        \n",
    "    for i in range(1,len(seq2)+1):\n",
    "        table[0,i] = gapcost*i\n",
    "        \n",
    "        \n",
    " ###   Fill out table    ###\n",
    "    for j in range(1,len(seq1)+1):\n",
    "        for i in range(1,len(seq2)+1):\n",
    "            diagonal = table[j-1,i-1]+scorematrix[translate(seq1[j-1]),translate(seq2[i-1])]\n",
    "            up = table[j,i-1]+gapcost\n",
    "            left = table[j-1,i]+gapcost\n",
    "            table[j,i]=(max(diagonal,up,left))\n",
    "    \n",
    "#     return table[len(seq1),len(seq2)]   \n",
    "    return table"
   ]
  },
  {
   "cell_type": "code",
   "execution_count": 6,
   "metadata": {},
   "outputs": [],
   "source": [
    "# BACKTRACKING \n",
    "# Single best alignment\n",
    "\n",
    "def backtracking(table, seq1, seq2,scorematrix, gapcost):\n",
    "    ### Empty lists to add alignment to ###\n",
    "    align1 = []\n",
    "    align2 = []\n",
    "    \n",
    "    ### Set index to bottom right corner ###\n",
    "    j=len(table)-1\n",
    "    i=len(table[0])-1\n",
    "\n",
    "        \n",
    "    ### Backtrack ###\n",
    "    while j > 0 or i > 0:\n",
    "        cell = table[j,i]\n",
    "        diagonal = table[j-1,i-1]+scorematrix[translate(seq1[j-1]),translate(seq2[i-1])]\n",
    "        if j > 0 and i > 0 and diagonal == cell:\n",
    "            align1.append(seq1[j-1]) # Add letter to both lists\n",
    "            align2.append(seq2[i-1])\n",
    "            j = j-1\n",
    "            i = i-1\n",
    "        elif j >= 0 and i > 0 and table[j,i-1]+gapcost == cell: #left\n",
    "            align1.append(\"-\") # Add letter to seq 2, but - to seq 1\n",
    "            align2.append(seq2[i-1])\n",
    "            i = i-1\n",
    "        elif j > 0 and i >= 0 and table[j-1,i]+gapcost == cell: # up\n",
    "#             print(\"up\")\n",
    "            align1.append(seq1[j-1]) # Add letter to seq 2, but - to seq 2\n",
    "            align2.append(\"-\")\n",
    "            j = j-1\n",
    "        else:\n",
    "            return \"error\"\n",
    "\n",
    "    align1.reverse()\n",
    "    align1 = \"\".join(align1)\n",
    "    align2.reverse()\n",
    "    align2 = \"\".join(align2)\n",
    "    test = np.array([[align1], [align2]])\n",
    "    return test"
   ]
  },
  {
   "cell_type": "code",
   "execution_count": 7,
   "metadata": {},
   "outputs": [
    {
     "name": "stdout",
     "output_type": "stream",
     "text": [
      "[['AATAAT']\n",
      " ['AA-GG-']]\n"
     ]
    }
   ],
   "source": [
    "# TEST\n",
    "#Write sequences here:\n",
    "seq1 = 'AATAAT'\n",
    "seq2 = 'AAGG'\n",
    "\n",
    "# Write score matrix here\n",
    "\n",
    "# Order: ACGT x ACGT\n",
    "scorematrix = np.array([[10,2,5,2],[2,10,2,5],[5,2,10,2], [2,5,2,10]])\n",
    "\n",
    "alignment_table = alignment(seq1,seq2,scorematrix,-5)\n",
    "# print(alignment_table)\n",
    "\n",
    "a = backtracking(alignment_table, seq1, seq2, scorematrix, -5)\n",
    "print(a)"
   ]
  },
  {
   "cell_type": "markdown",
   "metadata": {},
   "source": [
    "# Answers to questions"
   ]
  },
  {
   "cell_type": "markdown",
   "metadata": {},
   "source": [
    "### Q1\n",
    "Score of optimal alignment for the small sequences"
   ]
  },
  {
   "cell_type": "code",
   "execution_count": 8,
   "metadata": {},
   "outputs": [
    {
     "data": {
      "text/plain": [
       "20.0"
      ]
     },
     "execution_count": 8,
     "metadata": {},
     "output_type": "execute_result"
    }
   ],
   "source": [
    "#Write sequences here:\n",
    "seq1 = 'AATAAT'\n",
    "seq2 = 'AAGG'\n",
    "\n",
    "# Write score matrix here\n",
    "# Order: ACGT x ACGT\n",
    "scorematrix = np.array([[10,2,5,2],[2,10,2,5],[5,2,10,2], [2,5,2,10]])\n",
    "\n",
    "alignment_table = alignment(seq1,seq2,scorematrix,-5)\n",
    "alignment_table[-1,-1]"
   ]
  },
  {
   "cell_type": "markdown",
   "metadata": {},
   "source": [
    "### Q2\n",
    "Score of optimal alignment for the long sequences"
   ]
  },
  {
   "cell_type": "code",
   "execution_count": 15,
   "metadata": {},
   "outputs": [
    {
     "ename": "FileNotFoundError",
     "evalue": "[Errno 2] No such file or directory: \"mnt\\\\c\\\\Users\\\\ASUS\\\\'Google Drev'\\\\AU\\\\Aktuelle\\\\'Algorithms in Bioinformatics'\\\\seq2.fasta\"",
     "output_type": "error",
     "traceback": [
      "\u001b[0;31m---------------------------------------------------------------------------\u001b[0m",
      "\u001b[0;31mFileNotFoundError\u001b[0m                         Traceback (most recent call last)",
      "\u001b[0;32m<ipython-input-15-661031805127>\u001b[0m in \u001b[0;36m<module>\u001b[0;34m\u001b[0m\n\u001b[1;32m      2\u001b[0m \u001b[0mseq1_real\u001b[0m \u001b[0;34m=\u001b[0m \u001b[0mfasta_reader\u001b[0m\u001b[0;34m(\u001b[0m\u001b[0;34m\"seq1.fasta\"\u001b[0m\u001b[0;34m)\u001b[0m\u001b[0;34m\u001b[0m\u001b[0;34m\u001b[0m\u001b[0m\n\u001b[1;32m      3\u001b[0m \u001b[0mseq1_real\u001b[0m \u001b[0;34m=\u001b[0m \u001b[0mstr\u001b[0m\u001b[0;34m(\u001b[0m\u001b[0mseq1_real\u001b[0m\u001b[0;34m[\u001b[0m\u001b[0;36m0\u001b[0m\u001b[0;34m]\u001b[0m\u001b[0;34m[\u001b[0m\u001b[0;36m1\u001b[0m\u001b[0;34m]\u001b[0m\u001b[0;34m)\u001b[0m\u001b[0;34m\u001b[0m\u001b[0;34m\u001b[0m\u001b[0m\n\u001b[0;32m----> 4\u001b[0;31m \u001b[0mseq2_real\u001b[0m \u001b[0;34m=\u001b[0m \u001b[0mfasta_reader\u001b[0m\u001b[0;34m(\u001b[0m\u001b[0;34m\"mnt\\\\c\\\\Users\\\\ASUS\\\\'Google Drev'\\\\AU\\\\Aktuelle\\\\'Algorithms in Bioinformatics'\\\\seq2.fasta\"\u001b[0m\u001b[0;34m)\u001b[0m\u001b[0;34m\u001b[0m\u001b[0;34m\u001b[0m\u001b[0m\n\u001b[0m\u001b[1;32m      5\u001b[0m \u001b[0mseq2_real\u001b[0m \u001b[0;34m=\u001b[0m \u001b[0mstr\u001b[0m\u001b[0;34m(\u001b[0m\u001b[0mseq2_real\u001b[0m\u001b[0;34m[\u001b[0m\u001b[0;36m0\u001b[0m\u001b[0;34m]\u001b[0m\u001b[0;34m[\u001b[0m\u001b[0;36m1\u001b[0m\u001b[0;34m]\u001b[0m\u001b[0;34m)\u001b[0m\u001b[0;34m\u001b[0m\u001b[0;34m\u001b[0m\u001b[0m\n\u001b[1;32m      6\u001b[0m \u001b[0;34m\u001b[0m\u001b[0m\n",
      "\u001b[0;32m<ipython-input-3-aab40fe97713>\u001b[0m in \u001b[0;36mfasta_reader\u001b[0;34m(filename)\u001b[0m\n\u001b[1;32m      4\u001b[0m \u001b[0;32mdef\u001b[0m \u001b[0mfasta_reader\u001b[0m\u001b[0;34m(\u001b[0m\u001b[0mfilename\u001b[0m\u001b[0;34m)\u001b[0m\u001b[0;34m:\u001b[0m\u001b[0;34m\u001b[0m\u001b[0;34m\u001b[0m\u001b[0m\n\u001b[1;32m      5\u001b[0m     \u001b[0msequences\u001b[0m \u001b[0;34m=\u001b[0m \u001b[0;34m[\u001b[0m\u001b[0;34m]\u001b[0m\u001b[0;34m\u001b[0m\u001b[0;34m\u001b[0m\u001b[0m\n\u001b[0;32m----> 6\u001b[0;31m     \u001b[0;32mfor\u001b[0m \u001b[0mrecord\u001b[0m \u001b[0;32min\u001b[0m \u001b[0mSeqIO\u001b[0m\u001b[0;34m.\u001b[0m\u001b[0mparse\u001b[0m\u001b[0;34m(\u001b[0m\u001b[0mfilename\u001b[0m\u001b[0;34m,\u001b[0m \u001b[0;34m\"fasta\"\u001b[0m\u001b[0;34m)\u001b[0m\u001b[0;34m:\u001b[0m\u001b[0;34m\u001b[0m\u001b[0;34m\u001b[0m\u001b[0m\n\u001b[0m\u001b[1;32m      7\u001b[0m         \u001b[0msequences\u001b[0m\u001b[0;34m.\u001b[0m\u001b[0mappend\u001b[0m\u001b[0;34m(\u001b[0m\u001b[0;34m[\u001b[0m\u001b[0mrecord\u001b[0m\u001b[0;34m.\u001b[0m\u001b[0mid\u001b[0m\u001b[0;34m,\u001b[0m\u001b[0mrecord\u001b[0m\u001b[0;34m.\u001b[0m\u001b[0mseq\u001b[0m\u001b[0;34m]\u001b[0m\u001b[0;34m)\u001b[0m\u001b[0;34m\u001b[0m\u001b[0;34m\u001b[0m\u001b[0m\n\u001b[1;32m      8\u001b[0m     \u001b[0;32mreturn\u001b[0m \u001b[0msequences\u001b[0m\u001b[0;34m\u001b[0m\u001b[0;34m\u001b[0m\u001b[0m\n",
      "\u001b[0;32m~/miniconda3/lib/python3.8/site-packages/Bio/SeqIO/__init__.py\u001b[0m in \u001b[0;36mparse\u001b[0;34m(handle, format, alphabet)\u001b[0m\n\u001b[1;32m    605\u001b[0m     \u001b[0miterator_generator\u001b[0m \u001b[0;34m=\u001b[0m \u001b[0m_FormatToIterator\u001b[0m\u001b[0;34m.\u001b[0m\u001b[0mget\u001b[0m\u001b[0;34m(\u001b[0m\u001b[0mformat\u001b[0m\u001b[0;34m)\u001b[0m\u001b[0;34m\u001b[0m\u001b[0;34m\u001b[0m\u001b[0m\n\u001b[1;32m    606\u001b[0m     \u001b[0;32mif\u001b[0m \u001b[0miterator_generator\u001b[0m\u001b[0;34m:\u001b[0m\u001b[0;34m\u001b[0m\u001b[0;34m\u001b[0m\u001b[0m\n\u001b[0;32m--> 607\u001b[0;31m         \u001b[0;32mreturn\u001b[0m \u001b[0miterator_generator\u001b[0m\u001b[0;34m(\u001b[0m\u001b[0mhandle\u001b[0m\u001b[0;34m)\u001b[0m\u001b[0;34m\u001b[0m\u001b[0;34m\u001b[0m\u001b[0m\n\u001b[0m\u001b[1;32m    608\u001b[0m     \u001b[0;32mif\u001b[0m \u001b[0mformat\u001b[0m \u001b[0;32min\u001b[0m \u001b[0mAlignIO\u001b[0m\u001b[0;34m.\u001b[0m\u001b[0m_FormatToIterator\u001b[0m\u001b[0;34m:\u001b[0m\u001b[0;34m\u001b[0m\u001b[0;34m\u001b[0m\u001b[0m\n\u001b[1;32m    609\u001b[0m         \u001b[0;31m# Use Bio.AlignIO to read in the alignments\u001b[0m\u001b[0;34m\u001b[0m\u001b[0;34m\u001b[0m\u001b[0;34m\u001b[0m\u001b[0m\n",
      "\u001b[0;32m~/miniconda3/lib/python3.8/site-packages/Bio/SeqIO/FastaIO.py\u001b[0m in \u001b[0;36m__init__\u001b[0;34m(self, source, alphabet, title2ids)\u001b[0m\n\u001b[1;32m    181\u001b[0m             \u001b[0;32mraise\u001b[0m \u001b[0mValueError\u001b[0m\u001b[0;34m(\u001b[0m\u001b[0;34m\"The alphabet argument is no longer supported\"\u001b[0m\u001b[0;34m)\u001b[0m\u001b[0;34m\u001b[0m\u001b[0;34m\u001b[0m\u001b[0m\n\u001b[1;32m    182\u001b[0m         \u001b[0mself\u001b[0m\u001b[0;34m.\u001b[0m\u001b[0mtitle2ids\u001b[0m \u001b[0;34m=\u001b[0m \u001b[0mtitle2ids\u001b[0m\u001b[0;34m\u001b[0m\u001b[0;34m\u001b[0m\u001b[0m\n\u001b[0;32m--> 183\u001b[0;31m         \u001b[0msuper\u001b[0m\u001b[0;34m(\u001b[0m\u001b[0;34m)\u001b[0m\u001b[0;34m.\u001b[0m\u001b[0m__init__\u001b[0m\u001b[0;34m(\u001b[0m\u001b[0msource\u001b[0m\u001b[0;34m,\u001b[0m \u001b[0mmode\u001b[0m\u001b[0;34m=\u001b[0m\u001b[0;34m\"t\"\u001b[0m\u001b[0;34m,\u001b[0m \u001b[0mfmt\u001b[0m\u001b[0;34m=\u001b[0m\u001b[0;34m\"Fasta\"\u001b[0m\u001b[0;34m)\u001b[0m\u001b[0;34m\u001b[0m\u001b[0;34m\u001b[0m\u001b[0m\n\u001b[0m\u001b[1;32m    184\u001b[0m \u001b[0;34m\u001b[0m\u001b[0m\n\u001b[1;32m    185\u001b[0m     \u001b[0;32mdef\u001b[0m \u001b[0mparse\u001b[0m\u001b[0;34m(\u001b[0m\u001b[0mself\u001b[0m\u001b[0;34m,\u001b[0m \u001b[0mhandle\u001b[0m\u001b[0;34m)\u001b[0m\u001b[0;34m:\u001b[0m\u001b[0;34m\u001b[0m\u001b[0;34m\u001b[0m\u001b[0m\n",
      "\u001b[0;32m~/miniconda3/lib/python3.8/site-packages/Bio/SeqIO/Interfaces.py\u001b[0m in \u001b[0;36m__init__\u001b[0;34m(self, source, alphabet, mode, fmt)\u001b[0m\n\u001b[1;32m     45\u001b[0m             \u001b[0;32mraise\u001b[0m \u001b[0mValueError\u001b[0m\u001b[0;34m(\u001b[0m\u001b[0;34m\"The alphabet argument is no longer supported\"\u001b[0m\u001b[0;34m)\u001b[0m\u001b[0;34m\u001b[0m\u001b[0;34m\u001b[0m\u001b[0m\n\u001b[1;32m     46\u001b[0m         \u001b[0;32mtry\u001b[0m\u001b[0;34m:\u001b[0m\u001b[0;34m\u001b[0m\u001b[0;34m\u001b[0m\u001b[0m\n\u001b[0;32m---> 47\u001b[0;31m             \u001b[0mself\u001b[0m\u001b[0;34m.\u001b[0m\u001b[0mstream\u001b[0m \u001b[0;34m=\u001b[0m \u001b[0mopen\u001b[0m\u001b[0;34m(\u001b[0m\u001b[0msource\u001b[0m\u001b[0;34m,\u001b[0m \u001b[0;34m\"r\"\u001b[0m \u001b[0;34m+\u001b[0m \u001b[0mmode\u001b[0m\u001b[0;34m)\u001b[0m\u001b[0;34m\u001b[0m\u001b[0;34m\u001b[0m\u001b[0m\n\u001b[0m\u001b[1;32m     48\u001b[0m             \u001b[0mself\u001b[0m\u001b[0;34m.\u001b[0m\u001b[0mshould_close_stream\u001b[0m \u001b[0;34m=\u001b[0m \u001b[0;32mTrue\u001b[0m\u001b[0;34m\u001b[0m\u001b[0;34m\u001b[0m\u001b[0m\n\u001b[1;32m     49\u001b[0m         \u001b[0;32mexcept\u001b[0m \u001b[0mTypeError\u001b[0m\u001b[0;34m:\u001b[0m  \u001b[0;31m# not a path, assume we received a stream\u001b[0m\u001b[0;34m\u001b[0m\u001b[0;34m\u001b[0m\u001b[0m\n",
      "\u001b[0;31mFileNotFoundError\u001b[0m: [Errno 2] No such file or directory: \"mnt\\\\c\\\\Users\\\\ASUS\\\\'Google Drev'\\\\AU\\\\Aktuelle\\\\'Algorithms in Bioinformatics'\\\\seq2.fasta\""
     ]
    }
   ],
   "source": [
    "#Write sequences here:\n",
    "seq1_real = fasta_reader(\"seq1.fasta\")\n",
    "seq1_real = str(seq1_real[0][1])\n",
    "seq2_real = fasta_reader(\"seq2.fasta\")\n",
    "seq2_real = str(seq2_real[0][1])\n",
    "\n",
    "\n",
    "# Write score matrix here\n",
    "# Order: ACGT x ACGT\n",
    "scorematrix = np.array([[10,2,5,2],[2,10,2,5],[5,2,10,2], [2,5,2,10]])\n",
    "\n",
    "alignment_table = alignment(seq1_real,seq2_real,scorematrix,-5)\n",
    "alignment_table[-1,-1]"
   ]
  },
  {
   "cell_type": "markdown",
   "metadata": {},
   "source": [
    "### Q3\n",
    "Reconstruction of the optimal alignment for the small and large sequences"
   ]
  },
  {
   "cell_type": "code",
   "execution_count": 12,
   "metadata": {},
   "outputs": [
    {
     "name": "stdout",
     "output_type": "stream",
     "text": [
      "Score:\n",
      " 20.0\n",
      "Alignment:\n",
      "[['AATAAT']\n",
      " ['AA-GG-']]\n"
     ]
    }
   ],
   "source": [
    "#Write sequences here:\n",
    "seq1 = 'AATAAT'\n",
    "seq2 = 'AAGG'\n",
    "\n",
    "# Write score matrix here\n",
    "# Order: ACGT x ACGT\n",
    "scorematrix = np.array([[10,2,5,2],[2,10,2,5],[5,2,10,2], [2,5,2,10]])\n",
    "\n",
    "alignment_table = alignment(seq1,seq2,scorematrix,-5)\n",
    "visual_align = backtracking(alignment_table, seq1, seq2, scorematrix, -5)\n",
    "print(\"Score:\\n\", alignment_table[-1,-1])\n",
    "print(\"Alignment:\")\n",
    "print(visual_align)"
   ]
  },
  {
   "cell_type": "code",
   "execution_count": 13,
   "metadata": {},
   "outputs": [
    {
     "name": "stdout",
     "output_type": "stream",
     "text": [
      "Score:\n",
      " 1346.0\n",
      "Alignment:\n",
      "[['GGCCTAAAGGCGCCGGTCTTTCGTACCCCAAAATCTCG-GCATTTTAAGATAAGTG-AGTGTTGCGTTACACTAGCGATCTACCGCGTCTTATACT-TAAGCG-TATGCCC-AGATCTGA-CTAATCGTGCCCCCGGATTAGACGGGCTTGATGGGAAAGAACAGCTCGTC---TGTT-TAC--GTATAAACAGAATCGCCTGGGTTCGC']\n",
      " ['GGGCTAAAGGTTAGGGTCTTTCACACTAAAGAGTGGTGCGTATCGT-GGCTAA-TGTACCGCTTC-TGGTA-TCGTGGCTTA-CG-GCCAGAC-CTACAAGTACTAGACCTGAGAACTAATCTTGTCGAGCCTTC-CATT-GA-GGG--TAATGGGAGAGAACATCGAGTCAGAAGTTATTCTTGTTTACGTAGAATCGCCTGGGTCCGC']]\n"
     ]
    }
   ],
   "source": [
    "#Write sequences here:\n",
    "seq1_real = fasta_reader(\"seq1.fasta\")\n",
    "seq1_real = str(seq1_real[0][1])\n",
    "seq2_real = fasta_reader(\"seq2.fasta\")\n",
    "seq2_real = str(seq2_real[0][1])\n",
    "\n",
    "\n",
    "# Write score matrix here\n",
    "# Order: ACGT x ACGT\n",
    "scorematrix = np.array([[10,2,5,2],[2,10,2,5],[5,2,10,2], [2,5,2,10]])\n",
    "\n",
    "alignment_table = alignment(seq1_real,seq2_real,scorematrix,-5)\n",
    "visual_align = backtracking(alignment_table, seq1_real, seq2_real, scorematrix, -5)\n",
    "print(\"Score:\\n\", alignment_table[-1,-1])\n",
    "print(\"Alignment:\")\n",
    "print(visual_align)"
   ]
  },
  {
   "cell_type": "markdown",
   "metadata": {},
   "source": [
    "### Q4\n",
    "Logic: For every split, we have one extra optimal alignment\n",
    "Idea: Follow all possible paths through the matrix and not just one. Count the number of alignments"
   ]
  },
  {
   "cell_type": "code",
   "execution_count": null,
   "metadata": {},
   "outputs": [],
   "source": [
    "### For every split, we have one extra optimal alignment"
   ]
  },
  {
   "cell_type": "code",
   "execution_count": 366,
   "metadata": {},
   "outputs": [],
   "source": [
    "# Backtracking one best alignment\n",
    "# A = align\n",
    "# D = deletion ( in seq 1)\n",
    "# I = insertion (in seq 2)\n",
    "\n",
    "def backtracking(table, seq1, seq2,scorematrix, gapcost, acc):\n",
    "    \n",
    "    ### Set index to bottom right corner ###\n",
    "    j=len(seq1)\n",
    "    i=len(seq2)\n",
    "\n",
    "    ### Backtrack ###\n",
    "    while j > 0 and i > 0:\n",
    "        cell = table[j,i]\n",
    "        counter = []\n",
    "        diagonal = table[j-1,i-1]+scorematrix[translate(seq1[j-1]),translate(seq2[i-1])]\n",
    "        left = table[j,i-1]+gapcost\n",
    "        up = table[j-1,i]+gapcost\n",
    "        if diagonal == cell:\n",
    "            counter.append(\"A\")\n",
    "#             print(\"diagonal\", diagonal)\n",
    "        if left == cell: #left\n",
    "            counter.append(\"D\")\n",
    "#             print(\"left\",table[j,i-1]+gapcost )\n",
    "        if up == cell: # up\n",
    "            counter.append(\"I\")\n",
    "#             print(\"up\", table[j-1,i]+gapcost) \n",
    "        if len(counter) == 0:\n",
    "            return \"error\"\n",
    "        if len(counter) == 1:\n",
    "            if counter[0] == \"A\":\n",
    "                j = j-1\n",
    "                i = i-1\n",
    "            elif counter[0] == \"D\":\n",
    "                i = i-1\n",
    "            elif counter[0] == \"I\":\n",
    "                j = j-1\n",
    "        else:\n",
    "            for x in counter:\n",
    "                if x == \"A\":\n",
    "                    acc += 1\n",
    "                    return backtracking(table, seq1[0,j+1], seq2[0,i+1], scorematrix, gapcost, acc)\n",
    "                if x == \"D\":\n",
    "                    acc += 1\n",
    "                    return backtracking(table, seq1[0,j+1], seq2[0,i], scorematrix, gapcost, acc)\n",
    "                if x == \"I\":\n",
    "                    acc += 1\n",
    "                    return backtracking(table, seq1[0,j], seq2[0,i+1], scorematrix, gapcost, acc)\n",
    "            \n",
    "            \n",
    "\n",
    "#     align1.reverse()\n",
    "#     align1 = \"\".join(align1)\n",
    "#     align2.reverse()\n",
    "#     align2 = \"\".join(align2)\n",
    "#     test = np.array([[align1], [align2]])\n",
    "    \n",
    "    return acc"
   ]
  },
  {
   "cell_type": "code",
   "execution_count": 365,
   "metadata": {},
   "outputs": [
    {
     "name": "stdout",
     "output_type": "stream",
     "text": [
      "Score:\n",
      " 20.0\n",
      "Alignment:\n",
      "0\n"
     ]
    }
   ],
   "source": [
    "# TEST\n",
    "#Write sequences here:\n",
    "seq1 = 'AATAAT'\n",
    "seq2 = 'AAGG'\n",
    "\n",
    "# seq1 = 'AAGACT'\n",
    "# seq2 = 'AATTT'\n",
    "\n",
    "# Write score matrix here\n",
    "# Order: ACGT x ACGT\n",
    "scorematrix = np.array([[10,2,5,2],[2,10,2,5],[5,2,10,2], [2,5,2,10]])\n",
    "\n",
    "alignment_table = alignment(seq1,seq2,scorematrix,-5)\n",
    "visual_align = backtracking(alignment_table, seq1, seq2, scorematrix, -5, acc = 0)\n",
    "print(\"Score:\\n\", alignment_table[-1,-1])\n",
    "print(\"Alignment:\")\n",
    "print(visual_align)"
   ]
  }
 ],
 "metadata": {
  "kernelspec": {
   "display_name": "Python 3",
   "language": "python",
   "name": "python3"
  },
  "language_info": {
   "codemirror_mode": {
    "name": "ipython",
    "version": 3
   },
   "file_extension": ".py",
   "mimetype": "text/x-python",
   "name": "python",
   "nbconvert_exporter": "python",
   "pygments_lexer": "ipython3",
   "version": "3.8.3"
  }
 },
 "nbformat": 4,
 "nbformat_minor": 4
}
